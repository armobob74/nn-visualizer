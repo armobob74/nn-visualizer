{
 "cells": [
  {
   "cell_type": "code",
   "execution_count": 1,
   "id": "4805e82a",
   "metadata": {},
   "outputs": [],
   "source": [
    "from nn_visualizer import NNVis\n",
    "import torch.nn as nn"
   ]
  },
  {
   "cell_type": "markdown",
   "id": "ad251ee5",
   "metadata": {},
   "source": [
    "# Use Case 1: Custom Weights"
   ]
  },
  {
   "cell_type": "code",
   "execution_count": 2,
   "id": "023f4864",
   "metadata": {},
   "outputs": [
    {
     "data": {
      "image/svg+xml": [
       "<svg xmlns=\"http://www.w3.org/2000/svg\" viewBox=\"0 0 100 100\"><line x1=\"0.0\" y1=\"40.0\" x2=\"50.0\" y2=\"20.0\" stroke=\"green\" stroke-width=\"0.32\"/><line x1=\"0.0\" y1=\"40.0\" x2=\"50.0\" y2=\"40.0\" stroke=\"green\" stroke-width=\"0.53\"/><line x1=\"0.0\" y1=\"40.0\" x2=\"50.0\" y2=\"60.0\" stroke=\"green\" stroke-width=\"1.0\"/><line x1=\"0.0\" y1=\"40.0\" x2=\"50.0\" y2=\"80.0\" stroke=\"red\" stroke-width=\"0.12\"/><line x1=\"0.0\" y1=\"60.0\" x2=\"50.0\" y2=\"20.0\" stroke=\"red\" stroke-width=\"0.98\"/><line x1=\"0.0\" y1=\"60.0\" x2=\"50.0\" y2=\"40.0\" stroke=\"green\" stroke-width=\"0.63\"/><line x1=\"0.0\" y1=\"60.0\" x2=\"50.0\" y2=\"60.0\" stroke=\"green\" stroke-width=\"0.1\"/><line x1=\"0.0\" y1=\"60.0\" x2=\"50.0\" y2=\"80.0\" stroke=\"green\" stroke-width=\"0.64\"/><line x1=\"50.0\" y1=\"20.0\" x2=\"100.0\" y2=\"50.0\" stroke=\"red\" stroke-width=\"0.16\"/><line x1=\"50.0\" y1=\"40.0\" x2=\"100.0\" y2=\"50.0\" stroke=\"green\" stroke-width=\"0.09\"/><line x1=\"50.0\" y1=\"60.0\" x2=\"100.0\" y2=\"50.0\" stroke=\"green\" stroke-width=\"0.35\"/><line x1=\"50.0\" y1=\"80.0\" x2=\"100.0\" y2=\"50.0\" stroke=\"green\" stroke-width=\"0.65\"/><circle cx=\"0.0\" cy=\"40.0\" r=\"3\"/><circle cx=\"0.0\" cy=\"60.0\" r=\"3\"/><circle cx=\"50.0\" cy=\"20.0\" r=\"3\"/><circle cx=\"50.0\" cy=\"40.0\" r=\"3\"/><circle cx=\"50.0\" cy=\"60.0\" r=\"3\"/><circle cx=\"50.0\" cy=\"80.0\" r=\"3\"/><circle cx=\"100.0\" cy=\"50.0\" r=\"3\"/></svg>"
      ],
      "text/plain": [
       "<IPython.core.display.SVG object>"
      ]
     },
     "execution_count": 2,
     "metadata": {},
     "output_type": "execute_result"
    }
   ],
   "source": [
    "weights = [\n",
    "    [[ 32, -98],\n",
    "     [ 53,  63],\n",
    "     [100,  10],\n",
    "     [-12,  64]],\n",
    "    [[-16,  9,  35, 65]]\n",
    "]\n",
    "nnvis = NNVis(weights)\n",
    "nnvis.displaySvg()"
   ]
  },
  {
   "cell_type": "markdown",
   "id": "86de5208",
   "metadata": {},
   "source": [
    "# Use Case 2: Directly from Torch module"
   ]
  },
  {
   "cell_type": "code",
   "execution_count": 3,
   "id": "3c257638",
   "metadata": {},
   "outputs": [],
   "source": [
    "class MLP(nn.Module):\n",
    "    def __init__(self, input_size, hidden_size, num_classes):\n",
    "        super(MLP, self).__init__()\n",
    "        self.fc1 = nn.Linear(input_size, hidden_size)\n",
    "        self.relu = nn.ReLU()\n",
    "        self.fc2 = nn.Linear(hidden_size, num_classes)\n",
    "\n",
    "    def forward(self, x):\n",
    "        out = self.fc1(x)\n",
    "        out = self.relu(out)\n",
    "        out = self.fc2(out)\n",
    "        return out"
   ]
  },
  {
   "cell_type": "code",
   "execution_count": 7,
   "id": "cb6945bf",
   "metadata": {},
   "outputs": [
    {
     "data": {
      "image/svg+xml": [
       "<svg xmlns=\"http://www.w3.org/2000/svg\" viewBox=\"0 0 100 100\"><line x1=\"0.0\" y1=\"40.0\" x2=\"50.0\" y2=\"20.0\" stroke=\"green\" stroke-width=\"1.0\"/><line x1=\"0.0\" y1=\"40.0\" x2=\"50.0\" y2=\"40.0\" stroke=\"green\" stroke-width=\"0.887590543285827\"/><line x1=\"0.0\" y1=\"40.0\" x2=\"50.0\" y2=\"60.0\" stroke=\"red\" stroke-width=\"1.19102916295077\"/><line x1=\"0.0\" y1=\"40.0\" x2=\"50.0\" y2=\"80.0\" stroke=\"red\" stroke-width=\"0.44735661153476614\"/><line x1=\"0.0\" y1=\"60.0\" x2=\"50.0\" y2=\"20.0\" stroke=\"green\" stroke-width=\"0.871859290684497\"/><line x1=\"0.0\" y1=\"60.0\" x2=\"50.0\" y2=\"40.0\" stroke=\"red\" stroke-width=\"0.5937412745001712\"/><line x1=\"0.0\" y1=\"60.0\" x2=\"50.0\" y2=\"60.0\" stroke=\"green\" stroke-width=\"0.05138785394027935\"/><line x1=\"0.0\" y1=\"60.0\" x2=\"50.0\" y2=\"80.0\" stroke=\"red\" stroke-width=\"1.2744002169601796\"/><line x1=\"50.0\" y1=\"20.0\" x2=\"100.0\" y2=\"50.0\" stroke=\"green\" stroke-width=\"0.7816843052070078\"/><line x1=\"50.0\" y1=\"40.0\" x2=\"100.0\" y2=\"50.0\" stroke=\"red\" stroke-width=\"0.5501974855014757\"/><line x1=\"50.0\" y1=\"60.0\" x2=\"100.0\" y2=\"50.0\" stroke=\"red\" stroke-width=\"0.1487711156336788\"/><line x1=\"50.0\" y1=\"80.0\" x2=\"100.0\" y2=\"50.0\" stroke=\"green\" stroke-width=\"0.3415048442578362\"/><circle cx=\"0.0\" cy=\"40.0\" r=\"3\"/><circle cx=\"0.0\" cy=\"60.0\" r=\"3\"/><circle cx=\"50.0\" cy=\"20.0\" r=\"3\"/><circle cx=\"50.0\" cy=\"40.0\" r=\"3\"/><circle cx=\"50.0\" cy=\"60.0\" r=\"3\"/><circle cx=\"50.0\" cy=\"80.0\" r=\"3\"/><circle cx=\"100.0\" cy=\"50.0\" r=\"3\"/></svg>"
      ],
      "text/plain": [
       "<IPython.core.display.SVG object>"
      ]
     },
     "execution_count": 7,
     "metadata": {},
     "output_type": "execute_result"
    }
   ],
   "source": [
    "mlp = MLP(2,4,1)\n",
    "nnvis = NNVis(mlp)\n",
    "nnvis.displaySvg()"
   ]
  },
  {
   "cell_type": "code",
   "execution_count": null,
   "id": "7dc7a7a4",
   "metadata": {},
   "outputs": [],
   "source": []
  },
  {
   "cell_type": "code",
   "execution_count": null,
   "id": "c6bc42b1",
   "metadata": {},
   "outputs": [],
   "source": []
  }
 ],
 "metadata": {
  "kernelspec": {
   "display_name": "ML",
   "language": "python",
   "name": "ml"
  },
  "language_info": {
   "codemirror_mode": {
    "name": "ipython",
    "version": 3
   },
   "file_extension": ".py",
   "mimetype": "text/x-python",
   "name": "python",
   "nbconvert_exporter": "python",
   "pygments_lexer": "ipython3",
   "version": "3.8.10"
  }
 },
 "nbformat": 4,
 "nbformat_minor": 5
}
